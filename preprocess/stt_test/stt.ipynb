{
 "cells": [
  {
   "cell_type": "code",
   "execution_count": 5,
   "metadata": {},
   "outputs": [],
   "source": [
    "###jason 파일 위치를 지정해줘서 환경변수를 통한 api 키 인증\n",
    "# import os\n",
    "# os.environ[\"GOOGLE_APPLICATION_CREDENTIALS\"] = None"
   ]
  },
  {
   "cell_type": "code",
   "execution_count": 2,
   "metadata": {},
   "outputs": [],
   "source": [
    "import glob"
   ]
  },
  {
   "cell_type": "code",
   "execution_count": null,
   "metadata": {},
   "outputs": [],
   "source": [
    "### 테스트"
   ]
  },
  {
   "cell_type": "code",
   "execution_count": 11,
   "metadata": {},
   "outputs": [
    {
     "name": "stdout",
     "output_type": "stream",
     "text": [
      "gs://speech-jinhyuk01/03_rpca+vocal_sep_mk/IalxILfE2Hc102_vocal_sep.wav\n"
     ]
    }
   ],
   "source": [
    "file_count = 102\n",
    "for i in range(file_count):\n",
    "    url = 'gs://speech-jinhyuk01/03_rpca+vocal_sep_mk/IalxILfE2Hc{}_vocal_sep.wav'.format(i)\n",
    "    print(url)"
   ]
  },
  {
   "cell_type": "code",
   "execution_count": 19,
   "metadata": {},
   "outputs": [
    {
     "ename": "NotFound",
     "evalue": "404 No such object: speech-jinhyuk01/03_rpca+vocal_sep_mk/IalxILfE2Hc102_vocal_sepw.wav",
     "output_type": "error",
     "traceback": [
      "\u001B[1;31m---------------------------------------------------------------------------\u001B[0m",
      "\u001B[1;31m_Rendezvous\u001B[0m                               Traceback (most recent call last)",
      "\u001B[1;32m~\\Anaconda3\\lib\\site-packages\\google\\api_core\\grpc_helpers.py\u001B[0m in \u001B[0;36merror_remapped_callable\u001B[1;34m(*args, **kwargs)\u001B[0m\n\u001B[0;32m     58\u001B[0m         \u001B[1;32mtry\u001B[0m\u001B[1;33m:\u001B[0m\u001B[1;33m\u001B[0m\u001B[0m\n\u001B[1;32m---> 59\u001B[1;33m             \u001B[1;32mreturn\u001B[0m \u001B[0mcallable_\u001B[0m\u001B[1;33m(\u001B[0m\u001B[1;33m*\u001B[0m\u001B[0margs\u001B[0m\u001B[1;33m,\u001B[0m \u001B[1;33m**\u001B[0m\u001B[0mkwargs\u001B[0m\u001B[1;33m)\u001B[0m\u001B[1;33m\u001B[0m\u001B[0m\n\u001B[0m\u001B[0;32m     60\u001B[0m         \u001B[1;32mexcept\u001B[0m \u001B[0mgrpc\u001B[0m\u001B[1;33m.\u001B[0m\u001B[0mRpcError\u001B[0m \u001B[1;32mas\u001B[0m \u001B[0mexc\u001B[0m\u001B[1;33m:\u001B[0m\u001B[1;33m\u001B[0m\u001B[0m\n",
      "\u001B[1;32m~\\Anaconda3\\lib\\site-packages\\grpc\\_channel.py\u001B[0m in \u001B[0;36m__call__\u001B[1;34m(self, request, timeout, metadata, credentials)\u001B[0m\n\u001B[0;32m    531\u001B[0m         \u001B[0mstate\u001B[0m\u001B[1;33m,\u001B[0m \u001B[0mcall\u001B[0m\u001B[1;33m,\u001B[0m \u001B[1;33m=\u001B[0m \u001B[0mself\u001B[0m\u001B[1;33m.\u001B[0m\u001B[0m_blocking\u001B[0m\u001B[1;33m(\u001B[0m\u001B[0mrequest\u001B[0m\u001B[1;33m,\u001B[0m \u001B[0mtimeout\u001B[0m\u001B[1;33m,\u001B[0m \u001B[0mmetadata\u001B[0m\u001B[1;33m,\u001B[0m \u001B[0mcredentials\u001B[0m\u001B[1;33m)\u001B[0m\u001B[1;33m\u001B[0m\u001B[0m\n\u001B[1;32m--> 532\u001B[1;33m         \u001B[1;32mreturn\u001B[0m \u001B[0m_end_unary_response_blocking\u001B[0m\u001B[1;33m(\u001B[0m\u001B[0mstate\u001B[0m\u001B[1;33m,\u001B[0m \u001B[0mcall\u001B[0m\u001B[1;33m,\u001B[0m \u001B[1;32mFalse\u001B[0m\u001B[1;33m,\u001B[0m \u001B[1;32mNone\u001B[0m\u001B[1;33m)\u001B[0m\u001B[1;33m\u001B[0m\u001B[0m\n\u001B[0m\u001B[0;32m    533\u001B[0m \u001B[1;33m\u001B[0m\u001B[0m\n",
      "\u001B[1;32m~\\Anaconda3\\lib\\site-packages\\grpc\\_channel.py\u001B[0m in \u001B[0;36m_end_unary_response_blocking\u001B[1;34m(state, call, with_call, deadline)\u001B[0m\n\u001B[0;32m    465\u001B[0m     \u001B[1;32melse\u001B[0m\u001B[1;33m:\u001B[0m\u001B[1;33m\u001B[0m\u001B[0m\n\u001B[1;32m--> 466\u001B[1;33m         \u001B[1;32mraise\u001B[0m \u001B[0m_Rendezvous\u001B[0m\u001B[1;33m(\u001B[0m\u001B[0mstate\u001B[0m\u001B[1;33m,\u001B[0m \u001B[1;32mNone\u001B[0m\u001B[1;33m,\u001B[0m \u001B[1;32mNone\u001B[0m\u001B[1;33m,\u001B[0m \u001B[0mdeadline\u001B[0m\u001B[1;33m)\u001B[0m\u001B[1;33m\u001B[0m\u001B[0m\n\u001B[0m\u001B[0;32m    467\u001B[0m \u001B[1;33m\u001B[0m\u001B[0m\n",
      "\u001B[1;31m_Rendezvous\u001B[0m: <_Rendezvous of RPC that terminated with:\n\tstatus = StatusCode.NOT_FOUND\n\tdetails = \"No such object: speech-jinhyuk01/03_rpca+vocal_sep_mk/IalxILfE2Hc102_vocal_sepw.wav\"\n\tdebug_error_string = \"{\"created\":\"@1545889919.488000000\",\"description\":\"Error received from peer\",\"file\":\"src/core/lib/surface/call.cc\",\"file_line\":1099,\"grpc_message\":\"No such object: speech-jinhyuk01/03_rpca+vocal_sep_mk/IalxILfE2Hc102_vocal_sepw.wav\",\"grpc_status\":5}\"\n>",
      "\nThe above exception was the direct cause of the following exception:\n",
      "\u001B[1;31mNotFound\u001B[0m                                  Traceback (most recent call last)",
      "\u001B[1;32m<ipython-input-19-526297e7f6f3>\u001B[0m in \u001B[0;36m<module>\u001B[1;34m()\u001B[0m\n\u001B[0;32m     11\u001B[0m             \u001B[0mencoding\u001B[0m\u001B[1;33m=\u001B[0m\u001B[1;34m'LINEAR16'\u001B[0m\u001B[1;33m,\u001B[0m\u001B[1;33m\u001B[0m\u001B[0m\n\u001B[0;32m     12\u001B[0m             \u001B[0mlanguage_code\u001B[0m\u001B[1;33m=\u001B[0m\u001B[1;34m'ko-KR'\u001B[0m\u001B[1;33m,\u001B[0m      \u001B[1;31m##한국어로 문자화\u001B[0m\u001B[1;33m\u001B[0m\u001B[0m\n\u001B[1;32m---> 13\u001B[1;33m             \u001B[0msample_rate_hertz\u001B[0m\u001B[1;33m=\u001B[0m\u001B[1;36m44100\u001B[0m\u001B[1;33m,\u001B[0m\u001B[1;33m\u001B[0m\u001B[0m\n\u001B[0m\u001B[0;32m     14\u001B[0m         ),\n\u001B[0;32m     15\u001B[0m     )\n",
      "\u001B[1;32m~\\Anaconda3\\lib\\site-packages\\google\\cloud\\speech_v1\\gapic\\speech_client.py\u001B[0m in \u001B[0;36mlong_running_recognize\u001B[1;34m(self, config, audio, retry, timeout, metadata)\u001B[0m\n\u001B[0;32m    307\u001B[0m         )\n\u001B[0;32m    308\u001B[0m         operation = self._inner_api_calls['long_running_recognize'](\n\u001B[1;32m--> 309\u001B[1;33m             request, retry=retry, timeout=timeout, metadata=metadata)\n\u001B[0m\u001B[0;32m    310\u001B[0m         return google.api_core.operation.from_gapic(\n\u001B[0;32m    311\u001B[0m             \u001B[0moperation\u001B[0m\u001B[1;33m,\u001B[0m\u001B[1;33m\u001B[0m\u001B[0m\n",
      "\u001B[1;32m~\\Anaconda3\\lib\\site-packages\\google\\api_core\\gapic_v1\\method.py\u001B[0m in \u001B[0;36m__call__\u001B[1;34m(self, *args, **kwargs)\u001B[0m\n\u001B[0;32m    137\u001B[0m             \u001B[0mkwargs\u001B[0m\u001B[1;33m[\u001B[0m\u001B[1;34m'metadata'\u001B[0m\u001B[1;33m]\u001B[0m \u001B[1;33m=\u001B[0m \u001B[0mmetadata\u001B[0m\u001B[1;33m\u001B[0m\u001B[0m\n\u001B[0;32m    138\u001B[0m \u001B[1;33m\u001B[0m\u001B[0m\n\u001B[1;32m--> 139\u001B[1;33m         \u001B[1;32mreturn\u001B[0m \u001B[0mwrapped_func\u001B[0m\u001B[1;33m(\u001B[0m\u001B[1;33m*\u001B[0m\u001B[0margs\u001B[0m\u001B[1;33m,\u001B[0m \u001B[1;33m**\u001B[0m\u001B[0mkwargs\u001B[0m\u001B[1;33m)\u001B[0m\u001B[1;33m\u001B[0m\u001B[0m\n\u001B[0m\u001B[0;32m    140\u001B[0m \u001B[1;33m\u001B[0m\u001B[0m\n\u001B[0;32m    141\u001B[0m \u001B[1;33m\u001B[0m\u001B[0m\n",
      "\u001B[1;32m~\\Anaconda3\\lib\\site-packages\\google\\api_core\\retry.py\u001B[0m in \u001B[0;36mretry_wrapped_func\u001B[1;34m(*args, **kwargs)\u001B[0m\n\u001B[0;32m    258\u001B[0m                 \u001B[0msleep_generator\u001B[0m\u001B[1;33m,\u001B[0m\u001B[1;33m\u001B[0m\u001B[0m\n\u001B[0;32m    259\u001B[0m                 \u001B[0mself\u001B[0m\u001B[1;33m.\u001B[0m\u001B[0m_deadline\u001B[0m\u001B[1;33m,\u001B[0m\u001B[1;33m\u001B[0m\u001B[0m\n\u001B[1;32m--> 260\u001B[1;33m                 \u001B[0mon_error\u001B[0m\u001B[1;33m=\u001B[0m\u001B[0mon_error\u001B[0m\u001B[1;33m,\u001B[0m\u001B[1;33m\u001B[0m\u001B[0m\n\u001B[0m\u001B[0;32m    261\u001B[0m             )\n\u001B[0;32m    262\u001B[0m \u001B[1;33m\u001B[0m\u001B[0m\n",
      "\u001B[1;32m~\\Anaconda3\\lib\\site-packages\\google\\api_core\\retry.py\u001B[0m in \u001B[0;36mretry_target\u001B[1;34m(target, predicate, sleep_generator, deadline, on_error)\u001B[0m\n\u001B[0;32m    175\u001B[0m     \u001B[1;32mfor\u001B[0m \u001B[0msleep\u001B[0m \u001B[1;32min\u001B[0m \u001B[0msleep_generator\u001B[0m\u001B[1;33m:\u001B[0m\u001B[1;33m\u001B[0m\u001B[0m\n\u001B[0;32m    176\u001B[0m         \u001B[1;32mtry\u001B[0m\u001B[1;33m:\u001B[0m\u001B[1;33m\u001B[0m\u001B[0m\n\u001B[1;32m--> 177\u001B[1;33m             \u001B[1;32mreturn\u001B[0m \u001B[0mtarget\u001B[0m\u001B[1;33m(\u001B[0m\u001B[1;33m)\u001B[0m\u001B[1;33m\u001B[0m\u001B[0m\n\u001B[0m\u001B[0;32m    178\u001B[0m \u001B[1;33m\u001B[0m\u001B[0m\n\u001B[0;32m    179\u001B[0m         \u001B[1;31m# pylint: disable=broad-except\u001B[0m\u001B[1;33m\u001B[0m\u001B[1;33m\u001B[0m\u001B[0m\n",
      "\u001B[1;32m~\\Anaconda3\\lib\\site-packages\\google\\api_core\\timeout.py\u001B[0m in \u001B[0;36mfunc_with_timeout\u001B[1;34m(*args, **kwargs)\u001B[0m\n\u001B[0;32m    204\u001B[0m             \u001B[1;34m\"\"\"Wrapped function that adds timeout.\"\"\"\u001B[0m\u001B[1;33m\u001B[0m\u001B[0m\n\u001B[0;32m    205\u001B[0m             \u001B[0mkwargs\u001B[0m\u001B[1;33m[\u001B[0m\u001B[1;34m'timeout'\u001B[0m\u001B[1;33m]\u001B[0m \u001B[1;33m=\u001B[0m \u001B[0mnext\u001B[0m\u001B[1;33m(\u001B[0m\u001B[0mtimeouts\u001B[0m\u001B[1;33m)\u001B[0m\u001B[1;33m\u001B[0m\u001B[0m\n\u001B[1;32m--> 206\u001B[1;33m             \u001B[1;32mreturn\u001B[0m \u001B[0mfunc\u001B[0m\u001B[1;33m(\u001B[0m\u001B[1;33m*\u001B[0m\u001B[0margs\u001B[0m\u001B[1;33m,\u001B[0m \u001B[1;33m**\u001B[0m\u001B[0mkwargs\u001B[0m\u001B[1;33m)\u001B[0m\u001B[1;33m\u001B[0m\u001B[0m\n\u001B[0m\u001B[0;32m    207\u001B[0m \u001B[1;33m\u001B[0m\u001B[0m\n\u001B[0;32m    208\u001B[0m         \u001B[1;32mreturn\u001B[0m \u001B[0mfunc_with_timeout\u001B[0m\u001B[1;33m\u001B[0m\u001B[0m\n",
      "\u001B[1;32m~\\Anaconda3\\lib\\site-packages\\google\\api_core\\grpc_helpers.py\u001B[0m in \u001B[0;36merror_remapped_callable\u001B[1;34m(*args, **kwargs)\u001B[0m\n\u001B[0;32m     59\u001B[0m             \u001B[1;32mreturn\u001B[0m \u001B[0mcallable_\u001B[0m\u001B[1;33m(\u001B[0m\u001B[1;33m*\u001B[0m\u001B[0margs\u001B[0m\u001B[1;33m,\u001B[0m \u001B[1;33m**\u001B[0m\u001B[0mkwargs\u001B[0m\u001B[1;33m)\u001B[0m\u001B[1;33m\u001B[0m\u001B[0m\n\u001B[0;32m     60\u001B[0m         \u001B[1;32mexcept\u001B[0m \u001B[0mgrpc\u001B[0m\u001B[1;33m.\u001B[0m\u001B[0mRpcError\u001B[0m \u001B[1;32mas\u001B[0m \u001B[0mexc\u001B[0m\u001B[1;33m:\u001B[0m\u001B[1;33m\u001B[0m\u001B[0m\n\u001B[1;32m---> 61\u001B[1;33m             \u001B[0msix\u001B[0m\u001B[1;33m.\u001B[0m\u001B[0mraise_from\u001B[0m\u001B[1;33m(\u001B[0m\u001B[0mexceptions\u001B[0m\u001B[1;33m.\u001B[0m\u001B[0mfrom_grpc_error\u001B[0m\u001B[1;33m(\u001B[0m\u001B[0mexc\u001B[0m\u001B[1;33m)\u001B[0m\u001B[1;33m,\u001B[0m \u001B[0mexc\u001B[0m\u001B[1;33m)\u001B[0m\u001B[1;33m\u001B[0m\u001B[0m\n\u001B[0m\u001B[0;32m     62\u001B[0m \u001B[1;33m\u001B[0m\u001B[0m\n\u001B[0;32m     63\u001B[0m     \u001B[1;32mreturn\u001B[0m \u001B[0merror_remapped_callable\u001B[0m\u001B[1;33m\u001B[0m\u001B[0m\n",
      "\u001B[1;32m~\\Anaconda3\\lib\\site-packages\\six.py\u001B[0m in \u001B[0;36mraise_from\u001B[1;34m(value, from_value)\u001B[0m\n",
      "\u001B[1;31mNotFound\u001B[0m: 404 No such object: speech-jinhyuk01/03_rpca+vocal_sep_mk/IalxILfE2Hc102_vocal_sepw.wav"
     ]
    }
   ],
   "source": [
    "from google.cloud import speech\n",
    "\n",
    "\n",
    "client = speech.SpeechClient()\n",
    "data_set = []\n",
    "for i in range(file_count):\n",
    "    url ='gs://speech-jinhyuk01/03_rpca+vocal_sep_mk/IalxILfE2Hc{}_vocal_sep.wav'.format(i)\n",
    "    operation = client.long_running_recognize(\n",
    "        audio=speech.types.RecognitionAudio(\n",
    "            uri=url,\n",
    "        ),\n",
    "        config=speech.types.RecognitionConfig(\n",
    "            encoding='LINEAR16',\n",
    "            language_code='ko-KR',\n",
    "            sample_rate_hertz=44100,\n",
    "        ),\n",
    "    )\n",
    "    file = url[22:][:-4]\n",
    "    \n",
    "\n",
    "    op_result = operation.result()\n",
    "    for result in op_result.results:\n",
    "        for alternative in result.alternatives:\n",
    "            content=alternative.transcript\n",
    "    data_set.append((file, content,content))"
   ]
  },
  {
   "cell_type": "code",
   "execution_count": 31,
   "metadata": {},
   "outputs": [
    {
     "ename": "InvalidArgument",
     "evalue": "400 sample_rate_hertz (44100) in RecognitionConfig must either be omitted or match the value in the WAV header ( 22050).",
     "output_type": "error",
     "traceback": [
      "\u001B[1;31m---------------------------------------------------------------------------\u001B[0m",
      "\u001B[1;31m_Rendezvous\u001B[0m                               Traceback (most recent call last)",
      "\u001B[1;32m~\\Anaconda3\\lib\\site-packages\\google\\api_core\\grpc_helpers.py\u001B[0m in \u001B[0;36merror_remapped_callable\u001B[1;34m(*args, **kwargs)\u001B[0m\n\u001B[0;32m     58\u001B[0m         \u001B[1;32mtry\u001B[0m\u001B[1;33m:\u001B[0m\u001B[1;33m\u001B[0m\u001B[0m\n\u001B[1;32m---> 59\u001B[1;33m             \u001B[1;32mreturn\u001B[0m \u001B[0mcallable_\u001B[0m\u001B[1;33m(\u001B[0m\u001B[1;33m*\u001B[0m\u001B[0margs\u001B[0m\u001B[1;33m,\u001B[0m \u001B[1;33m**\u001B[0m\u001B[0mkwargs\u001B[0m\u001B[1;33m)\u001B[0m\u001B[1;33m\u001B[0m\u001B[0m\n\u001B[0m\u001B[0;32m     60\u001B[0m         \u001B[1;32mexcept\u001B[0m \u001B[0mgrpc\u001B[0m\u001B[1;33m.\u001B[0m\u001B[0mRpcError\u001B[0m \u001B[1;32mas\u001B[0m \u001B[0mexc\u001B[0m\u001B[1;33m:\u001B[0m\u001B[1;33m\u001B[0m\u001B[0m\n",
      "\u001B[1;32m~\\Anaconda3\\lib\\site-packages\\grpc\\_channel.py\u001B[0m in \u001B[0;36m__call__\u001B[1;34m(self, request, timeout, metadata, credentials)\u001B[0m\n\u001B[0;32m    531\u001B[0m         \u001B[0mstate\u001B[0m\u001B[1;33m,\u001B[0m \u001B[0mcall\u001B[0m\u001B[1;33m,\u001B[0m \u001B[1;33m=\u001B[0m \u001B[0mself\u001B[0m\u001B[1;33m.\u001B[0m\u001B[0m_blocking\u001B[0m\u001B[1;33m(\u001B[0m\u001B[0mrequest\u001B[0m\u001B[1;33m,\u001B[0m \u001B[0mtimeout\u001B[0m\u001B[1;33m,\u001B[0m \u001B[0mmetadata\u001B[0m\u001B[1;33m,\u001B[0m \u001B[0mcredentials\u001B[0m\u001B[1;33m)\u001B[0m\u001B[1;33m\u001B[0m\u001B[0m\n\u001B[1;32m--> 532\u001B[1;33m         \u001B[1;32mreturn\u001B[0m \u001B[0m_end_unary_response_blocking\u001B[0m\u001B[1;33m(\u001B[0m\u001B[0mstate\u001B[0m\u001B[1;33m,\u001B[0m \u001B[0mcall\u001B[0m\u001B[1;33m,\u001B[0m \u001B[1;32mFalse\u001B[0m\u001B[1;33m,\u001B[0m \u001B[1;32mNone\u001B[0m\u001B[1;33m)\u001B[0m\u001B[1;33m\u001B[0m\u001B[0m\n\u001B[0m\u001B[0;32m    533\u001B[0m \u001B[1;33m\u001B[0m\u001B[0m\n",
      "\u001B[1;32m~\\Anaconda3\\lib\\site-packages\\grpc\\_channel.py\u001B[0m in \u001B[0;36m_end_unary_response_blocking\u001B[1;34m(state, call, with_call, deadline)\u001B[0m\n\u001B[0;32m    465\u001B[0m     \u001B[1;32melse\u001B[0m\u001B[1;33m:\u001B[0m\u001B[1;33m\u001B[0m\u001B[0m\n\u001B[1;32m--> 466\u001B[1;33m         \u001B[1;32mraise\u001B[0m \u001B[0m_Rendezvous\u001B[0m\u001B[1;33m(\u001B[0m\u001B[0mstate\u001B[0m\u001B[1;33m,\u001B[0m \u001B[1;32mNone\u001B[0m\u001B[1;33m,\u001B[0m \u001B[1;32mNone\u001B[0m\u001B[1;33m,\u001B[0m \u001B[0mdeadline\u001B[0m\u001B[1;33m)\u001B[0m\u001B[1;33m\u001B[0m\u001B[0m\n\u001B[0m\u001B[0;32m    467\u001B[0m \u001B[1;33m\u001B[0m\u001B[0m\n",
      "\u001B[1;31m_Rendezvous\u001B[0m: <_Rendezvous of RPC that terminated with:\n\tstatus = StatusCode.INVALID_ARGUMENT\n\tdetails = \"sample_rate_hertz (44100) in RecognitionConfig must either be omitted or match the value in the WAV header ( 22050).\"\n\tdebug_error_string = \"{\"created\":\"@1545895598.425000000\",\"description\":\"Error received from peer\",\"file\":\"src/core/lib/surface/call.cc\",\"file_line\":1099,\"grpc_message\":\"sample_rate_hertz (44100) in RecognitionConfig must either be omitted or match the value in the WAV header ( 22050).\",\"grpc_status\":3}\"\n>",
      "\nThe above exception was the direct cause of the following exception:\n",
      "\u001B[1;31mInvalidArgument\u001B[0m                           Traceback (most recent call last)",
      "\u001B[1;32m<ipython-input-31-ef48dd2a99f5>\u001B[0m in \u001B[0;36m<module>\u001B[1;34m()\u001B[0m\n\u001B[0;32m     11\u001B[0m             \u001B[0mencoding\u001B[0m\u001B[1;33m=\u001B[0m\u001B[1;34m'MULAW'\u001B[0m\u001B[1;33m,\u001B[0m\u001B[1;33m\u001B[0m\u001B[0m\n\u001B[0;32m     12\u001B[0m             \u001B[0mlanguage_code\u001B[0m\u001B[1;33m=\u001B[0m\u001B[1;34m'ko-KR'\u001B[0m\u001B[1;33m,\u001B[0m      \u001B[1;31m##한국어로 문자화\u001B[0m\u001B[1;33m\u001B[0m\u001B[0m\n\u001B[1;32m---> 13\u001B[1;33m             \u001B[0msample_rate_hertz\u001B[0m\u001B[1;33m=\u001B[0m\u001B[1;36m44100\u001B[0m\u001B[1;33m,\u001B[0m\u001B[1;33m\u001B[0m\u001B[0m\n\u001B[0m\u001B[0;32m     14\u001B[0m         ),\n\u001B[0;32m     15\u001B[0m     )\n",
      "\u001B[1;32m~\\Anaconda3\\lib\\site-packages\\google\\cloud\\speech_v1\\gapic\\speech_client.py\u001B[0m in \u001B[0;36mlong_running_recognize\u001B[1;34m(self, config, audio, retry, timeout, metadata)\u001B[0m\n\u001B[0;32m    307\u001B[0m         )\n\u001B[0;32m    308\u001B[0m         operation = self._inner_api_calls['long_running_recognize'](\n\u001B[1;32m--> 309\u001B[1;33m             request, retry=retry, timeout=timeout, metadata=metadata)\n\u001B[0m\u001B[0;32m    310\u001B[0m         return google.api_core.operation.from_gapic(\n\u001B[0;32m    311\u001B[0m             \u001B[0moperation\u001B[0m\u001B[1;33m,\u001B[0m\u001B[1;33m\u001B[0m\u001B[0m\n",
      "\u001B[1;32m~\\Anaconda3\\lib\\site-packages\\google\\api_core\\gapic_v1\\method.py\u001B[0m in \u001B[0;36m__call__\u001B[1;34m(self, *args, **kwargs)\u001B[0m\n\u001B[0;32m    137\u001B[0m             \u001B[0mkwargs\u001B[0m\u001B[1;33m[\u001B[0m\u001B[1;34m'metadata'\u001B[0m\u001B[1;33m]\u001B[0m \u001B[1;33m=\u001B[0m \u001B[0mmetadata\u001B[0m\u001B[1;33m\u001B[0m\u001B[0m\n\u001B[0;32m    138\u001B[0m \u001B[1;33m\u001B[0m\u001B[0m\n\u001B[1;32m--> 139\u001B[1;33m         \u001B[1;32mreturn\u001B[0m \u001B[0mwrapped_func\u001B[0m\u001B[1;33m(\u001B[0m\u001B[1;33m*\u001B[0m\u001B[0margs\u001B[0m\u001B[1;33m,\u001B[0m \u001B[1;33m**\u001B[0m\u001B[0mkwargs\u001B[0m\u001B[1;33m)\u001B[0m\u001B[1;33m\u001B[0m\u001B[0m\n\u001B[0m\u001B[0;32m    140\u001B[0m \u001B[1;33m\u001B[0m\u001B[0m\n\u001B[0;32m    141\u001B[0m \u001B[1;33m\u001B[0m\u001B[0m\n",
      "\u001B[1;32m~\\Anaconda3\\lib\\site-packages\\google\\api_core\\retry.py\u001B[0m in \u001B[0;36mretry_wrapped_func\u001B[1;34m(*args, **kwargs)\u001B[0m\n\u001B[0;32m    258\u001B[0m                 \u001B[0msleep_generator\u001B[0m\u001B[1;33m,\u001B[0m\u001B[1;33m\u001B[0m\u001B[0m\n\u001B[0;32m    259\u001B[0m                 \u001B[0mself\u001B[0m\u001B[1;33m.\u001B[0m\u001B[0m_deadline\u001B[0m\u001B[1;33m,\u001B[0m\u001B[1;33m\u001B[0m\u001B[0m\n\u001B[1;32m--> 260\u001B[1;33m                 \u001B[0mon_error\u001B[0m\u001B[1;33m=\u001B[0m\u001B[0mon_error\u001B[0m\u001B[1;33m,\u001B[0m\u001B[1;33m\u001B[0m\u001B[0m\n\u001B[0m\u001B[0;32m    261\u001B[0m             )\n\u001B[0;32m    262\u001B[0m \u001B[1;33m\u001B[0m\u001B[0m\n",
      "\u001B[1;32m~\\Anaconda3\\lib\\site-packages\\google\\api_core\\retry.py\u001B[0m in \u001B[0;36mretry_target\u001B[1;34m(target, predicate, sleep_generator, deadline, on_error)\u001B[0m\n\u001B[0;32m    175\u001B[0m     \u001B[1;32mfor\u001B[0m \u001B[0msleep\u001B[0m \u001B[1;32min\u001B[0m \u001B[0msleep_generator\u001B[0m\u001B[1;33m:\u001B[0m\u001B[1;33m\u001B[0m\u001B[0m\n\u001B[0;32m    176\u001B[0m         \u001B[1;32mtry\u001B[0m\u001B[1;33m:\u001B[0m\u001B[1;33m\u001B[0m\u001B[0m\n\u001B[1;32m--> 177\u001B[1;33m             \u001B[1;32mreturn\u001B[0m \u001B[0mtarget\u001B[0m\u001B[1;33m(\u001B[0m\u001B[1;33m)\u001B[0m\u001B[1;33m\u001B[0m\u001B[0m\n\u001B[0m\u001B[0;32m    178\u001B[0m \u001B[1;33m\u001B[0m\u001B[0m\n\u001B[0;32m    179\u001B[0m         \u001B[1;31m# pylint: disable=broad-except\u001B[0m\u001B[1;33m\u001B[0m\u001B[1;33m\u001B[0m\u001B[0m\n",
      "\u001B[1;32m~\\Anaconda3\\lib\\site-packages\\google\\api_core\\timeout.py\u001B[0m in \u001B[0;36mfunc_with_timeout\u001B[1;34m(*args, **kwargs)\u001B[0m\n\u001B[0;32m    204\u001B[0m             \u001B[1;34m\"\"\"Wrapped function that adds timeout.\"\"\"\u001B[0m\u001B[1;33m\u001B[0m\u001B[0m\n\u001B[0;32m    205\u001B[0m             \u001B[0mkwargs\u001B[0m\u001B[1;33m[\u001B[0m\u001B[1;34m'timeout'\u001B[0m\u001B[1;33m]\u001B[0m \u001B[1;33m=\u001B[0m \u001B[0mnext\u001B[0m\u001B[1;33m(\u001B[0m\u001B[0mtimeouts\u001B[0m\u001B[1;33m)\u001B[0m\u001B[1;33m\u001B[0m\u001B[0m\n\u001B[1;32m--> 206\u001B[1;33m             \u001B[1;32mreturn\u001B[0m \u001B[0mfunc\u001B[0m\u001B[1;33m(\u001B[0m\u001B[1;33m*\u001B[0m\u001B[0margs\u001B[0m\u001B[1;33m,\u001B[0m \u001B[1;33m**\u001B[0m\u001B[0mkwargs\u001B[0m\u001B[1;33m)\u001B[0m\u001B[1;33m\u001B[0m\u001B[0m\n\u001B[0m\u001B[0;32m    207\u001B[0m \u001B[1;33m\u001B[0m\u001B[0m\n\u001B[0;32m    208\u001B[0m         \u001B[1;32mreturn\u001B[0m \u001B[0mfunc_with_timeout\u001B[0m\u001B[1;33m\u001B[0m\u001B[0m\n",
      "\u001B[1;32m~\\Anaconda3\\lib\\site-packages\\google\\api_core\\grpc_helpers.py\u001B[0m in \u001B[0;36merror_remapped_callable\u001B[1;34m(*args, **kwargs)\u001B[0m\n\u001B[0;32m     59\u001B[0m             \u001B[1;32mreturn\u001B[0m \u001B[0mcallable_\u001B[0m\u001B[1;33m(\u001B[0m\u001B[1;33m*\u001B[0m\u001B[0margs\u001B[0m\u001B[1;33m,\u001B[0m \u001B[1;33m**\u001B[0m\u001B[0mkwargs\u001B[0m\u001B[1;33m)\u001B[0m\u001B[1;33m\u001B[0m\u001B[0m\n\u001B[0;32m     60\u001B[0m         \u001B[1;32mexcept\u001B[0m \u001B[0mgrpc\u001B[0m\u001B[1;33m.\u001B[0m\u001B[0mRpcError\u001B[0m \u001B[1;32mas\u001B[0m \u001B[0mexc\u001B[0m\u001B[1;33m:\u001B[0m\u001B[1;33m\u001B[0m\u001B[0m\n\u001B[1;32m---> 61\u001B[1;33m             \u001B[0msix\u001B[0m\u001B[1;33m.\u001B[0m\u001B[0mraise_from\u001B[0m\u001B[1;33m(\u001B[0m\u001B[0mexceptions\u001B[0m\u001B[1;33m.\u001B[0m\u001B[0mfrom_grpc_error\u001B[0m\u001B[1;33m(\u001B[0m\u001B[0mexc\u001B[0m\u001B[1;33m)\u001B[0m\u001B[1;33m,\u001B[0m \u001B[0mexc\u001B[0m\u001B[1;33m)\u001B[0m\u001B[1;33m\u001B[0m\u001B[0m\n\u001B[0m\u001B[0;32m     62\u001B[0m \u001B[1;33m\u001B[0m\u001B[0m\n\u001B[0;32m     63\u001B[0m     \u001B[1;32mreturn\u001B[0m \u001B[0merror_remapped_callable\u001B[0m\u001B[1;33m\u001B[0m\u001B[0m\n",
      "\u001B[1;32m~\\Anaconda3\\lib\\site-packages\\six.py\u001B[0m in \u001B[0;36mraise_from\u001B[1;34m(value, from_value)\u001B[0m\n",
      "\u001B[1;31mInvalidArgument\u001B[0m: 400 sample_rate_hertz (44100) in RecognitionConfig must either be omitted or match the value in the WAV header ( 22050)."
     ]
    }
   ],
   "source": [
    "from google.cloud import speech\n",
    "\n",
    "\n",
    "client = speech.SpeechClient()\n",
    "data_set=[]\n",
    "file_count = 8210\n",
    "for i in range(file_count):\n",
    "    url = 'gs://speech-jinhyuk01/03_rpca+vocal_sep_mk2/VFBkeWOcdb{}_vocal_sep.wav'.format(i)\n",
    "    operation = client.long_running_recognize(\n",
    "        audio=speech.types.RecognitionAudio(\n",
    "            uri=url,\n",
    "        ),\n",
    "        config=speech.types.RecognitionConfig(\n",
    "            encoding='MULAW',\n",
    "            language_code='ko-KR',\n",
    "            sample_rate_hertz=44100,\n",
    "        ),\n",
    "    )\n",
    "    file = url[22:][:-4]\n",
    "    \n",
    "\n",
    "    op_result = operation.result()\n",
    "    for result in op_result.results:\n",
    "        for alternative in result.alternatives:\n",
    "            content=alternative.transcript\n",
    "    data_set.append((file, content,content))"
   ]
  },
  {
   "cell_type": "code",
   "execution_count": null,
   "metadata": {},
   "outputs": [],
   "source": []
  },
  {
   "cell_type": "code",
   "execution_count": 23,
   "metadata": {},
   "outputs": [
    {
     "ename": "InvalidArgument",
     "evalue": "400 sample_rate_hertz (44100) in RecognitionConfig must either be omitted or match the value in the WAV header ( 22050).",
     "output_type": "error",
     "traceback": [
      "\u001B[1;31m---------------------------------------------------------------------------\u001B[0m",
      "\u001B[1;31m_Rendezvous\u001B[0m                               Traceback (most recent call last)",
      "\u001B[1;32m~\\Anaconda3\\lib\\site-packages\\google\\api_core\\grpc_helpers.py\u001B[0m in \u001B[0;36merror_remapped_callable\u001B[1;34m(*args, **kwargs)\u001B[0m\n\u001B[0;32m     58\u001B[0m         \u001B[1;32mtry\u001B[0m\u001B[1;33m:\u001B[0m\u001B[1;33m\u001B[0m\u001B[0m\n\u001B[1;32m---> 59\u001B[1;33m             \u001B[1;32mreturn\u001B[0m \u001B[0mcallable_\u001B[0m\u001B[1;33m(\u001B[0m\u001B[1;33m*\u001B[0m\u001B[0margs\u001B[0m\u001B[1;33m,\u001B[0m \u001B[1;33m**\u001B[0m\u001B[0mkwargs\u001B[0m\u001B[1;33m)\u001B[0m\u001B[1;33m\u001B[0m\u001B[0m\n\u001B[0m\u001B[0;32m     60\u001B[0m         \u001B[1;32mexcept\u001B[0m \u001B[0mgrpc\u001B[0m\u001B[1;33m.\u001B[0m\u001B[0mRpcError\u001B[0m \u001B[1;32mas\u001B[0m \u001B[0mexc\u001B[0m\u001B[1;33m:\u001B[0m\u001B[1;33m\u001B[0m\u001B[0m\n",
      "\u001B[1;32m~\\Anaconda3\\lib\\site-packages\\grpc\\_channel.py\u001B[0m in \u001B[0;36m__call__\u001B[1;34m(self, request, timeout, metadata, credentials)\u001B[0m\n\u001B[0;32m    531\u001B[0m         \u001B[0mstate\u001B[0m\u001B[1;33m,\u001B[0m \u001B[0mcall\u001B[0m\u001B[1;33m,\u001B[0m \u001B[1;33m=\u001B[0m \u001B[0mself\u001B[0m\u001B[1;33m.\u001B[0m\u001B[0m_blocking\u001B[0m\u001B[1;33m(\u001B[0m\u001B[0mrequest\u001B[0m\u001B[1;33m,\u001B[0m \u001B[0mtimeout\u001B[0m\u001B[1;33m,\u001B[0m \u001B[0mmetadata\u001B[0m\u001B[1;33m,\u001B[0m \u001B[0mcredentials\u001B[0m\u001B[1;33m)\u001B[0m\u001B[1;33m\u001B[0m\u001B[0m\n\u001B[1;32m--> 532\u001B[1;33m         \u001B[1;32mreturn\u001B[0m \u001B[0m_end_unary_response_blocking\u001B[0m\u001B[1;33m(\u001B[0m\u001B[0mstate\u001B[0m\u001B[1;33m,\u001B[0m \u001B[0mcall\u001B[0m\u001B[1;33m,\u001B[0m \u001B[1;32mFalse\u001B[0m\u001B[1;33m,\u001B[0m \u001B[1;32mNone\u001B[0m\u001B[1;33m)\u001B[0m\u001B[1;33m\u001B[0m\u001B[0m\n\u001B[0m\u001B[0;32m    533\u001B[0m \u001B[1;33m\u001B[0m\u001B[0m\n",
      "\u001B[1;32m~\\Anaconda3\\lib\\site-packages\\grpc\\_channel.py\u001B[0m in \u001B[0;36m_end_unary_response_blocking\u001B[1;34m(state, call, with_call, deadline)\u001B[0m\n\u001B[0;32m    465\u001B[0m     \u001B[1;32melse\u001B[0m\u001B[1;33m:\u001B[0m\u001B[1;33m\u001B[0m\u001B[0m\n\u001B[1;32m--> 466\u001B[1;33m         \u001B[1;32mraise\u001B[0m \u001B[0m_Rendezvous\u001B[0m\u001B[1;33m(\u001B[0m\u001B[0mstate\u001B[0m\u001B[1;33m,\u001B[0m \u001B[1;32mNone\u001B[0m\u001B[1;33m,\u001B[0m \u001B[1;32mNone\u001B[0m\u001B[1;33m,\u001B[0m \u001B[0mdeadline\u001B[0m\u001B[1;33m)\u001B[0m\u001B[1;33m\u001B[0m\u001B[0m\n\u001B[0m\u001B[0;32m    467\u001B[0m \u001B[1;33m\u001B[0m\u001B[0m\n",
      "\u001B[1;31m_Rendezvous\u001B[0m: <_Rendezvous of RPC that terminated with:\n\tstatus = StatusCode.INVALID_ARGUMENT\n\tdetails = \"sample_rate_hertz (44100) in RecognitionConfig must either be omitted or match the value in the WAV header ( 22050).\"\n\tdebug_error_string = \"{\"created\":\"@1545890781.745000000\",\"description\":\"Error received from peer\",\"file\":\"src/core/lib/surface/call.cc\",\"file_line\":1099,\"grpc_message\":\"sample_rate_hertz (44100) in RecognitionConfig must either be omitted or match the value in the WAV header ( 22050).\",\"grpc_status\":3}\"\n>",
      "\nThe above exception was the direct cause of the following exception:\n",
      "\u001B[1;31mInvalidArgument\u001B[0m                           Traceback (most recent call last)",
      "\u001B[1;32m<ipython-input-23-82c135aef12d>\u001B[0m in \u001B[0;36m<module>\u001B[1;34m()\u001B[0m\n\u001B[0;32m     11\u001B[0m             \u001B[0mencoding\u001B[0m\u001B[1;33m=\u001B[0m\u001B[1;34m'LINEAR16'\u001B[0m\u001B[1;33m,\u001B[0m\u001B[1;33m\u001B[0m\u001B[0m\n\u001B[0;32m     12\u001B[0m             \u001B[0mlanguage_code\u001B[0m\u001B[1;33m=\u001B[0m\u001B[1;34m'ko-KR'\u001B[0m\u001B[1;33m,\u001B[0m      \u001B[1;31m##한국어로 문자화\u001B[0m\u001B[1;33m\u001B[0m\u001B[0m\n\u001B[1;32m---> 13\u001B[1;33m             \u001B[0msample_rate_hertz\u001B[0m\u001B[1;33m=\u001B[0m\u001B[1;36m44100\u001B[0m\u001B[1;33m,\u001B[0m\u001B[1;33m\u001B[0m\u001B[0m\n\u001B[0m\u001B[0;32m     14\u001B[0m         ),\n\u001B[0;32m     15\u001B[0m     )\n",
      "\u001B[1;32m~\\Anaconda3\\lib\\site-packages\\google\\cloud\\speech_v1\\gapic\\speech_client.py\u001B[0m in \u001B[0;36mlong_running_recognize\u001B[1;34m(self, config, audio, retry, timeout, metadata)\u001B[0m\n\u001B[0;32m    307\u001B[0m         )\n\u001B[0;32m    308\u001B[0m         operation = self._inner_api_calls['long_running_recognize'](\n\u001B[1;32m--> 309\u001B[1;33m             request, retry=retry, timeout=timeout, metadata=metadata)\n\u001B[0m\u001B[0;32m    310\u001B[0m         return google.api_core.operation.from_gapic(\n\u001B[0;32m    311\u001B[0m             \u001B[0moperation\u001B[0m\u001B[1;33m,\u001B[0m\u001B[1;33m\u001B[0m\u001B[0m\n",
      "\u001B[1;32m~\\Anaconda3\\lib\\site-packages\\google\\api_core\\gapic_v1\\method.py\u001B[0m in \u001B[0;36m__call__\u001B[1;34m(self, *args, **kwargs)\u001B[0m\n\u001B[0;32m    137\u001B[0m             \u001B[0mkwargs\u001B[0m\u001B[1;33m[\u001B[0m\u001B[1;34m'metadata'\u001B[0m\u001B[1;33m]\u001B[0m \u001B[1;33m=\u001B[0m \u001B[0mmetadata\u001B[0m\u001B[1;33m\u001B[0m\u001B[0m\n\u001B[0;32m    138\u001B[0m \u001B[1;33m\u001B[0m\u001B[0m\n\u001B[1;32m--> 139\u001B[1;33m         \u001B[1;32mreturn\u001B[0m \u001B[0mwrapped_func\u001B[0m\u001B[1;33m(\u001B[0m\u001B[1;33m*\u001B[0m\u001B[0margs\u001B[0m\u001B[1;33m,\u001B[0m \u001B[1;33m**\u001B[0m\u001B[0mkwargs\u001B[0m\u001B[1;33m)\u001B[0m\u001B[1;33m\u001B[0m\u001B[0m\n\u001B[0m\u001B[0;32m    140\u001B[0m \u001B[1;33m\u001B[0m\u001B[0m\n\u001B[0;32m    141\u001B[0m \u001B[1;33m\u001B[0m\u001B[0m\n",
      "\u001B[1;32m~\\Anaconda3\\lib\\site-packages\\google\\api_core\\retry.py\u001B[0m in \u001B[0;36mretry_wrapped_func\u001B[1;34m(*args, **kwargs)\u001B[0m\n\u001B[0;32m    258\u001B[0m                 \u001B[0msleep_generator\u001B[0m\u001B[1;33m,\u001B[0m\u001B[1;33m\u001B[0m\u001B[0m\n\u001B[0;32m    259\u001B[0m                 \u001B[0mself\u001B[0m\u001B[1;33m.\u001B[0m\u001B[0m_deadline\u001B[0m\u001B[1;33m,\u001B[0m\u001B[1;33m\u001B[0m\u001B[0m\n\u001B[1;32m--> 260\u001B[1;33m                 \u001B[0mon_error\u001B[0m\u001B[1;33m=\u001B[0m\u001B[0mon_error\u001B[0m\u001B[1;33m,\u001B[0m\u001B[1;33m\u001B[0m\u001B[0m\n\u001B[0m\u001B[0;32m    261\u001B[0m             )\n\u001B[0;32m    262\u001B[0m \u001B[1;33m\u001B[0m\u001B[0m\n",
      "\u001B[1;32m~\\Anaconda3\\lib\\site-packages\\google\\api_core\\retry.py\u001B[0m in \u001B[0;36mretry_target\u001B[1;34m(target, predicate, sleep_generator, deadline, on_error)\u001B[0m\n\u001B[0;32m    175\u001B[0m     \u001B[1;32mfor\u001B[0m \u001B[0msleep\u001B[0m \u001B[1;32min\u001B[0m \u001B[0msleep_generator\u001B[0m\u001B[1;33m:\u001B[0m\u001B[1;33m\u001B[0m\u001B[0m\n\u001B[0;32m    176\u001B[0m         \u001B[1;32mtry\u001B[0m\u001B[1;33m:\u001B[0m\u001B[1;33m\u001B[0m\u001B[0m\n\u001B[1;32m--> 177\u001B[1;33m             \u001B[1;32mreturn\u001B[0m \u001B[0mtarget\u001B[0m\u001B[1;33m(\u001B[0m\u001B[1;33m)\u001B[0m\u001B[1;33m\u001B[0m\u001B[0m\n\u001B[0m\u001B[0;32m    178\u001B[0m \u001B[1;33m\u001B[0m\u001B[0m\n\u001B[0;32m    179\u001B[0m         \u001B[1;31m# pylint: disable=broad-except\u001B[0m\u001B[1;33m\u001B[0m\u001B[1;33m\u001B[0m\u001B[0m\n",
      "\u001B[1;32m~\\Anaconda3\\lib\\site-packages\\google\\api_core\\timeout.py\u001B[0m in \u001B[0;36mfunc_with_timeout\u001B[1;34m(*args, **kwargs)\u001B[0m\n\u001B[0;32m    204\u001B[0m             \u001B[1;34m\"\"\"Wrapped function that adds timeout.\"\"\"\u001B[0m\u001B[1;33m\u001B[0m\u001B[0m\n\u001B[0;32m    205\u001B[0m             \u001B[0mkwargs\u001B[0m\u001B[1;33m[\u001B[0m\u001B[1;34m'timeout'\u001B[0m\u001B[1;33m]\u001B[0m \u001B[1;33m=\u001B[0m \u001B[0mnext\u001B[0m\u001B[1;33m(\u001B[0m\u001B[0mtimeouts\u001B[0m\u001B[1;33m)\u001B[0m\u001B[1;33m\u001B[0m\u001B[0m\n\u001B[1;32m--> 206\u001B[1;33m             \u001B[1;32mreturn\u001B[0m \u001B[0mfunc\u001B[0m\u001B[1;33m(\u001B[0m\u001B[1;33m*\u001B[0m\u001B[0margs\u001B[0m\u001B[1;33m,\u001B[0m \u001B[1;33m**\u001B[0m\u001B[0mkwargs\u001B[0m\u001B[1;33m)\u001B[0m\u001B[1;33m\u001B[0m\u001B[0m\n\u001B[0m\u001B[0;32m    207\u001B[0m \u001B[1;33m\u001B[0m\u001B[0m\n\u001B[0;32m    208\u001B[0m         \u001B[1;32mreturn\u001B[0m \u001B[0mfunc_with_timeout\u001B[0m\u001B[1;33m\u001B[0m\u001B[0m\n",
      "\u001B[1;32m~\\Anaconda3\\lib\\site-packages\\google\\api_core\\grpc_helpers.py\u001B[0m in \u001B[0;36merror_remapped_callable\u001B[1;34m(*args, **kwargs)\u001B[0m\n\u001B[0;32m     59\u001B[0m             \u001B[1;32mreturn\u001B[0m \u001B[0mcallable_\u001B[0m\u001B[1;33m(\u001B[0m\u001B[1;33m*\u001B[0m\u001B[0margs\u001B[0m\u001B[1;33m,\u001B[0m \u001B[1;33m**\u001B[0m\u001B[0mkwargs\u001B[0m\u001B[1;33m)\u001B[0m\u001B[1;33m\u001B[0m\u001B[0m\n\u001B[0;32m     60\u001B[0m         \u001B[1;32mexcept\u001B[0m \u001B[0mgrpc\u001B[0m\u001B[1;33m.\u001B[0m\u001B[0mRpcError\u001B[0m \u001B[1;32mas\u001B[0m \u001B[0mexc\u001B[0m\u001B[1;33m:\u001B[0m\u001B[1;33m\u001B[0m\u001B[0m\n\u001B[1;32m---> 61\u001B[1;33m             \u001B[0msix\u001B[0m\u001B[1;33m.\u001B[0m\u001B[0mraise_from\u001B[0m\u001B[1;33m(\u001B[0m\u001B[0mexceptions\u001B[0m\u001B[1;33m.\u001B[0m\u001B[0mfrom_grpc_error\u001B[0m\u001B[1;33m(\u001B[0m\u001B[0mexc\u001B[0m\u001B[1;33m)\u001B[0m\u001B[1;33m,\u001B[0m \u001B[0mexc\u001B[0m\u001B[1;33m)\u001B[0m\u001B[1;33m\u001B[0m\u001B[0m\n\u001B[0m\u001B[0;32m     62\u001B[0m \u001B[1;33m\u001B[0m\u001B[0m\n\u001B[0;32m     63\u001B[0m     \u001B[1;32mreturn\u001B[0m \u001B[0merror_remapped_callable\u001B[0m\u001B[1;33m\u001B[0m\u001B[0m\n",
      "\u001B[1;32m~\\Anaconda3\\lib\\site-packages\\six.py\u001B[0m in \u001B[0;36mraise_from\u001B[1;34m(value, from_value)\u001B[0m\n",
      "\u001B[1;31mInvalidArgument\u001B[0m: 400 sample_rate_hertz (44100) in RecognitionConfig must either be omitted or match the value in the WAV header ( 22050)."
     ]
    }
   ],
   "source": [
    "from google.cloud import speech\n",
    "\n",
    "\n",
    "client = speech.SpeechClient()\n",
    "data_set=[]\n",
    "file_count = 102\n",
    "for i in range(file_count):\n",
    "    url = 'gs://speech-jinhyuk01/03_rpca+vocal_sep_yh/hPpekSCaakQ{}_vocal_sep.wav'.format(i)\n",
    "    operation = client.long_running_recognize(\n",
    "        audio=speech.types.RecognitionAudio(\n",
    "            uri=url,\n",
    "        ),\n",
    "        config=speech.types.RecognitionConfig(\n",
    "            encoding='LINEAR16',\n",
    "            language_code='ko-KR',\n",
    "            sample_rate_hertz=44100,\n",
    "        ),\n",
    "    )\n",
    "    file = url[22:][:-4]\n",
    "    \n",
    "\n",
    "    op_result = operation.result()\n",
    "    for result in op_result.results:\n",
    "        for alternative in result.alternatives:\n",
    "            content=alternative.transcript\n",
    "    data_set.append((file, content,content))"
   ]
  },
  {
   "cell_type": "code",
   "execution_count": 3,
   "metadata": {},
   "outputs": [],
   "source": [
    "import pandas\n",
    "\n",
    "\n",
    "df = pandas.DataFrame(data_set, columns=['file_name', 'text','text2'])\n"
   ]
  },
  {
   "cell_type": "code",
   "execution_count": 4,
   "metadata": {},
   "outputs": [
    {
     "data": {
      "text/html": [
       "<div>\n",
       "<style scoped>\n",
       "    .dataframe tbody tr th:only-of-type {\n",
       "        vertical-align: middle;\n",
       "    }\n",
       "\n",
       "    .dataframe tbody tr th {\n",
       "        vertical-align: top;\n",
       "    }\n",
       "\n",
       "    .dataframe thead th {\n",
       "        text-align: right;\n",
       "    }\n",
       "</style>\n",
       "<table border=\"1\" class=\"dataframe\">\n",
       "  <thead>\n",
       "    <tr style=\"text-align: right;\">\n",
       "      <th></th>\n",
       "      <th>file_name</th>\n",
       "      <th>text</th>\n",
       "      <th>text2</th>\n",
       "    </tr>\n",
       "  </thead>\n",
       "  <tbody>\n",
       "    <tr>\n",
       "      <th>0</th>\n",
       "      <td>odpxbqglgVE9</td>\n",
       "      <td>멜론 라디오 스타 DJ 아이유의 아담한 라디오 시즌 2 오늘 첫 거군요 프린스의 언...</td>\n",
       "      <td>멜론 라디오 스타 DJ 아이유의 아담한 라디오 시즌 2 오늘 첫 거군요 프린스의 언...</td>\n",
       "    </tr>\n",
       "  </tbody>\n",
       "</table>\n",
       "</div>"
      ],
      "text/plain": [
       "      file_name                                               text  \\\n",
       "0  odpxbqglgVE9  멜론 라디오 스타 DJ 아이유의 아담한 라디오 시즌 2 오늘 첫 거군요 프린스의 언...   \n",
       "\n",
       "                                               text2  \n",
       "0  멜론 라디오 스타 DJ 아이유의 아담한 라디오 시즌 2 오늘 첫 거군요 프린스의 언...  "
      ]
     },
     "execution_count": 4,
     "metadata": {},
     "output_type": "execute_result"
    }
   ],
   "source": [
    "df.head()"
   ]
  },
  {
   "cell_type": "code",
   "execution_count": null,
   "metadata": {},
   "outputs": [],
   "source": [
    "df.to_csv('data_set.csv', encoding='cp949',sep='|')"
   ]
  },
  {
   "cell_type": "code",
   "execution_count": 5,
   "metadata": {},
   "outputs": [],
   "source": [
    "###실제 Task"
   ]
  },
  {
   "cell_type": "code",
   "execution_count": 18,
   "metadata": {},
   "outputs": [
    {
     "name": "stdout",
     "output_type": "stream",
     "text": [
      "gs://speech-jinhyuk01/chuncks_jh/LJ003-0005.wav\n"
     ]
    }
   ],
   "source": [
    "#for i in range(1,65):\n",
    "print('gs://speech-jinhyuk01/chuncks_jh/LJ003-{0:04d}.wav'.format(5))"
   ]
  },
  {
   "cell_type": "code",
   "execution_count": 19,
   "metadata": {},
   "outputs": [],
   "source": [
    "a='gs://speech-jinhyuk01/chuncks_jh/LJ003-{0:04d}.wav'.format(5)"
   ]
  },
  {
   "cell_type": "code",
   "execution_count": 24,
   "metadata": {},
   "outputs": [
    {
     "data": {
      "text/plain": [
       "'LJ003-0005'"
      ]
     },
     "execution_count": 24,
     "metadata": {},
     "output_type": "execute_result"
    }
   ],
   "source": [
    "a[33:][:-4]"
   ]
  },
  {
   "cell_type": "code",
   "execution_count": 15,
   "metadata": {},
   "outputs": [],
   "source": [
    "from google.cloud import speech\n",
    "\n",
    "\n",
    "client = speech.SpeechClient()\n",
    "for i in range(34,35):\n",
    "    url = 'gs://speech-jinhyuk01/chuncks_jh/LJ003-{0:04d}.wav'.format(i)\n",
    "    operation = client.long_running_recognize(\n",
    "        audio=speech.types.RecognitionAudio(\n",
    "            uri=url,\n",
    "        ),\n",
    "        config=speech.types.RecognitionConfig(\n",
    "            encoding='LINEAR16',\n",
    "            language_code='ko-KR',\n",
    "            sample_rate_hertz=44100,\n",
    "        ),\n",
    "    )\n",
    "    file = url[33:][:-4]\n",
    "    \n",
    "\n",
    "    op_result = operation.result()\n",
    "    for result in op_result.results:\n",
    "        for alternative in result.alternatives:\n",
    "            content=alternative.transcript\n",
    "    data_set.append((file, content,content))"
   ]
  },
  {
   "cell_type": "code",
   "execution_count": 16,
   "metadata": {},
   "outputs": [],
   "source": [
    "import pandas\n",
    "\n",
    "\n",
    "df = pandas.DataFrame(data_set, columns=['file_name', 'text','text2'])"
   ]
  },
  {
   "cell_type": "code",
   "execution_count": 17,
   "metadata": {},
   "outputs": [
    {
     "data": {
      "text/html": [
       "<div>\n",
       "<style scoped>\n",
       "    .dataframe tbody tr th:only-of-type {\n",
       "        vertical-align: middle;\n",
       "    }\n",
       "\n",
       "    .dataframe tbody tr th {\n",
       "        vertical-align: top;\n",
       "    }\n",
       "\n",
       "    .dataframe thead th {\n",
       "        text-align: right;\n",
       "    }\n",
       "</style>\n",
       "<table border=\"1\" class=\"dataframe\">\n",
       "  <thead>\n",
       "    <tr style=\"text-align: right;\">\n",
       "      <th></th>\n",
       "      <th>file_name</th>\n",
       "      <th>text</th>\n",
       "      <th>text2</th>\n",
       "    </tr>\n",
       "  </thead>\n",
       "  <tbody>\n",
       "    <tr>\n",
       "      <th>0</th>\n",
       "      <td>LJ003-0034</td>\n",
       "      <td>제일 어두울 때 제일 잘 보이잖아요 크게 좀 지연이나</td>\n",
       "      <td>제일 어두울 때 제일 잘 보이잖아요 크게 좀 지연이나</td>\n",
       "    </tr>\n",
       "  </tbody>\n",
       "</table>\n",
       "</div>"
      ],
      "text/plain": [
       "    file_name                           text                          text2\n",
       "0  LJ003-0034  제일 어두울 때 제일 잘 보이잖아요 크게 좀 지연이나  제일 어두울 때 제일 잘 보이잖아요 크게 좀 지연이나"
      ]
     },
     "execution_count": 17,
     "metadata": {},
     "output_type": "execute_result"
    }
   ],
   "source": [
    "df.head()\n",
    "df.tail()"
   ]
  },
  {
   "cell_type": "code",
   "execution_count": 32,
   "metadata": {},
   "outputs": [],
   "source": [
    "df.to_csv('data_set_task1.csv', encoding='cp949',sep='|')"
   ]
  },
  {
   "cell_type": "code",
   "execution_count": 37,
   "metadata": {},
   "outputs": [
    {
     "data": {
      "text/plain": [
       "30"
      ]
     },
     "execution_count": 37,
     "metadata": {},
     "output_type": "execute_result"
    }
   ],
   "source": [
    "# 제외 처리된 음원들 수\n",
    "n = len(glob.glob(\"../data/speech/delete/*\"));n"
   ]
  },
  {
   "cell_type": "code",
   "execution_count": 44,
   "metadata": {},
   "outputs": [
    {
     "data": {
      "text/plain": [
       "'LJ003-DL-0001.wav'"
      ]
     },
     "execution_count": 44,
     "metadata": {},
     "output_type": "execute_result"
    }
   ],
   "source": [
    "'gs://speech-jinhyuk01/delete/LJ003-DL-{0:04d}.wav'.format(i)[29:]"
   ]
  },
  {
   "cell_type": "code",
   "execution_count": 45,
   "metadata": {},
   "outputs": [],
   "source": [
    "from google.cloud import speech\n",
    "client = speech.SpeechClient()\n",
    "data_set=[]\n",
    "for i in range(1, n+1):\n",
    "    url = 'gs://speech-jinhyuk01/delete/LJ003-DL-{0:04d}.wav'.format(i)\n",
    "    operation = client.long_running_recognize(\n",
    "        audio=speech.types.RecognitionAudio(\n",
    "            uri=url,\n",
    "        ),\n",
    "        config=speech.types.RecognitionConfig(\n",
    "            encoding='LINEAR16',\n",
    "            language_code='ko-KR',\n",
    "            sample_rate_hertz=44100,\n",
    "        ),\n",
    "    )\n",
    "    file = url[29:][:-4]\n",
    "    \n",
    "\n",
    "    op_result = operation.result()\n",
    "    for result in op_result.results:\n",
    "        for alternative in result.alternatives:\n",
    "            content=alternative.transcript\n",
    "    data_set.append((file, content,content))"
   ]
  },
  {
   "cell_type": "code",
   "execution_count": 46,
   "metadata": {},
   "outputs": [],
   "source": [
    "import pandas\n",
    "\n",
    "\n",
    "df = pandas.DataFrame(data_set, columns=['file_name', 'text','text2'])"
   ]
  },
  {
   "cell_type": "code",
   "execution_count": 47,
   "metadata": {},
   "outputs": [
    {
     "data": {
      "text/html": [
       "<div>\n",
       "<style scoped>\n",
       "    .dataframe tbody tr th:only-of-type {\n",
       "        vertical-align: middle;\n",
       "    }\n",
       "\n",
       "    .dataframe tbody tr th {\n",
       "        vertical-align: top;\n",
       "    }\n",
       "\n",
       "    .dataframe thead th {\n",
       "        text-align: right;\n",
       "    }\n",
       "</style>\n",
       "<table border=\"1\" class=\"dataframe\">\n",
       "  <thead>\n",
       "    <tr style=\"text-align: right;\">\n",
       "      <th></th>\n",
       "      <th>file_name</th>\n",
       "      <th>text</th>\n",
       "      <th>text2</th>\n",
       "    </tr>\n",
       "  </thead>\n",
       "  <tbody>\n",
       "    <tr>\n",
       "      <th>25</th>\n",
       "      <td>LJ003-DL-0026</td>\n",
       "      <td>앞으로 국제적으로</td>\n",
       "      <td>앞으로 국제적으로</td>\n",
       "    </tr>\n",
       "    <tr>\n",
       "      <th>26</th>\n",
       "      <td>LJ003-DL-0027</td>\n",
       "      <td>될 것 같은데 아이유가 앞으로 되고 싶은 어른은 어떤 사람인가</td>\n",
       "      <td>될 것 같은데 아이유가 앞으로 되고 싶은 어른은 어떤 사람인가</td>\n",
       "    </tr>\n",
       "    <tr>\n",
       "      <th>27</th>\n",
       "      <td>LJ003-DL-0028</td>\n",
       "      <td>네가 그렇게 하는 거야 빨리 자라는 어른이 되고 싶어 가지고 있는 사람 있을 거 같은데</td>\n",
       "      <td>네가 그렇게 하는 거야 빨리 자라는 어른이 되고 싶어 가지고 있는 사람 있을 거 같은데</td>\n",
       "    </tr>\n",
       "    <tr>\n",
       "      <th>28</th>\n",
       "      <td>LJ003-DL-0029</td>\n",
       "      <td>보고 싶지 없어서 못 할 거 같다고 난 종원이 같은 어른 못 할 것 같아요라고</td>\n",
       "      <td>보고 싶지 없어서 못 할 거 같다고 난 종원이 같은 어른 못 할 것 같아요라고</td>\n",
       "    </tr>\n",
       "    <tr>\n",
       "      <th>29</th>\n",
       "      <td>LJ003-DL-0030</td>\n",
       "      <td>한 거 같아요 근데 그거 진짜 어려워요 제일 어려운 거 아니야</td>\n",
       "      <td>한 거 같아요 근데 그거 진짜 어려워요 제일 어려운 거 아니야</td>\n",
       "    </tr>\n",
       "  </tbody>\n",
       "</table>\n",
       "</div>"
      ],
      "text/plain": [
       "        file_name                                              text  \\\n",
       "25  LJ003-DL-0026                                         앞으로 국제적으로   \n",
       "26  LJ003-DL-0027                될 것 같은데 아이유가 앞으로 되고 싶은 어른은 어떤 사람인가   \n",
       "27  LJ003-DL-0028  네가 그렇게 하는 거야 빨리 자라는 어른이 되고 싶어 가지고 있는 사람 있을 거 같은데   \n",
       "28  LJ003-DL-0029       보고 싶지 없어서 못 할 거 같다고 난 종원이 같은 어른 못 할 것 같아요라고   \n",
       "29  LJ003-DL-0030                한 거 같아요 근데 그거 진짜 어려워요 제일 어려운 거 아니야   \n",
       "\n",
       "                                               text2  \n",
       "25                                         앞으로 국제적으로  \n",
       "26                될 것 같은데 아이유가 앞으로 되고 싶은 어른은 어떤 사람인가  \n",
       "27  네가 그렇게 하는 거야 빨리 자라는 어른이 되고 싶어 가지고 있는 사람 있을 거 같은데  \n",
       "28       보고 싶지 없어서 못 할 거 같다고 난 종원이 같은 어른 못 할 것 같아요라고  \n",
       "29                한 거 같아요 근데 그거 진짜 어려워요 제일 어려운 거 아니야  "
      ]
     },
     "execution_count": 47,
     "metadata": {},
     "output_type": "execute_result"
    }
   ],
   "source": [
    "df.tail()"
   ]
  },
  {
   "cell_type": "code",
   "execution_count": 48,
   "metadata": {},
   "outputs": [],
   "source": [
    "df.to_csv('data_set_delete1.csv', encoding='cp949',sep='|')"
   ]
  },
  {
   "cell_type": "code",
   "execution_count": null,
   "metadata": {},
   "outputs": [],
   "source": []
  }
 ],
 "metadata": {
  "kernelspec": {
   "display_name": "Python 3",
   "language": "python",
   "name": "python3"
  },
  "language_info": {
   "codemirror_mode": {
    "name": "ipython",
    "version": 3
   },
   "file_extension": ".py",
   "mimetype": "text/x-python",
   "name": "python",
   "nbconvert_exporter": "python",
   "pygments_lexer": "ipython3",
   "version": "3.6.5"
  }
 },
 "nbformat": 4,
 "nbformat_minor": 2
}